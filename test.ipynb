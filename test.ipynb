{
 "cells": [
  {
   "cell_type": "code",
   "execution_count": 1,
   "metadata": {},
   "outputs": [],
   "source": [
    "from __future__ import print_function\n",
    "from ipywidgets import interact, interactive, fixed, interact_manual\n",
    "import ipywidgets as widgets\n"
   ]
  },
  {
   "cell_type": "code",
   "execution_count": 2,
   "metadata": {},
   "outputs": [
    {
     "data": {
      "application/vnd.jupyter.widget-view+json": {
       "model_id": "e4dd685374f94469b06892ec02a4af55",
       "version_major": 2,
       "version_minor": 0
      },
      "text/plain": [
       "HBox(children=(SelectMultiple(description='Styles', index=(0,), options=('Brookite-gem7-07a.jpg', 'metal_rust_…"
      ]
     },
     "metadata": {},
     "output_type": "display_data"
    }
   ],
   "source": [
    "import os\n",
    "style_files = os.listdir('/home/nan/Pictures/styles')\n",
    "styles = widgets.SelectMultiple(\n",
    "    options=style_files,\n",
    "    value=[style_files[0]],\n",
    "    rows=20,\n",
    "    description='Styles',\n",
    "    disabled=False,\n",
    "    continuous_update=True\n",
    ")\n",
    "\n",
    "style_weight_1 = widgets.FloatSlider(\n",
    "    value=1,\n",
    "    min=0,\n",
    "    max=1.0,\n",
    "    step=0.1,\n",
    "    description='Weight 1',\n",
    "    disabled=False,\n",
    "    continuous_update=False,\n",
    "    orientation='horizontal'\n",
    ")\n",
    "style_weight_2 = widgets.FloatSlider(\n",
    "    value=1,\n",
    "    min=0,\n",
    "    max=1.0,\n",
    "    step=0.1,\n",
    "    description='Weight 2',\n",
    "    disabled=False,\n",
    "    continuous_update=False,\n",
    "    orientation='horizontal'\n",
    ")\n",
    "\n",
    "content_files = os.listdir('/home/nan/Pictures/Reference')\n",
    "content = widgets.Select(\n",
    "    options=content_files,\n",
    "    value=content_files[0],\n",
    "    rows=20,\n",
    "    description='Content',\n",
    "    disabled=False\n",
    ")\n",
    "widgets.HBox([styles, content, widgets.VBox([style_weight_1, style_weight_2])])\n"
   ]
  },
  {
   "cell_type": "code",
   "execution_count": 8,
   "metadata": {},
   "outputs": [
    {
     "name": "stdout",
     "output_type": "stream",
     "text": [
      "1.0\n",
      "/home/nan/Pictures/styles/Brookite-gem7-07a.jpg\n",
      "Number of content images: 1\n",
      "Number of style images: 1\n"
     ]
    },
    {
     "name": "stderr",
     "output_type": "stream",
     "text": [
      "/home/nan/.local/share/virtualenvs/tf-adain-MWIFD2qK/lib/python3.6/site-packages/scipy/misc/pilutil.py:482: FutureWarning: Conversion of the second argument of issubdtype from `int` to `np.signedinteger` is deprecated. In future, it will be treated as `np.int64 == np.dtype(int).type`.\n",
      "  if issubdtype(ts, int):\n",
      "/home/nan/.local/share/virtualenvs/tf-adain-MWIFD2qK/lib/python3.6/site-packages/scipy/misc/pilutil.py:485: FutureWarning: Conversion of the second argument of issubdtype from `float` to `np.floating` is deprecated. In future, it will be treated as `np.float64 == np.dtype(float).type`.\n",
      "  elif issubdtype(type(size), float):\n"
     ]
    },
    {
     "data": {
      "application/vnd.jupyter.widget-view+json": {
       "model_id": "de0d710717774b878be454c7d860431b",
       "version_major": 2,
       "version_minor": 0
      },
      "text/plain": [
       "HBox(children=(Image(value=b'\\xff\\xd8\\xff\\xe0\\x00\\x10JFIF\\x00\\x01\\x01\\x00\\x00\\x01\\x00\\x01\\x00\\x00\\xff\\xdb\\x00C…"
      ]
     },
     "metadata": {},
     "output_type": "display_data"
    }
   ],
   "source": [
    "def display_image(path):\n",
    "    file = open(path, \"rb\")\n",
    "    image = file.read()\n",
    "    return widgets.Image(\n",
    "        value=image,\n",
    "        format='png',\n",
    "        width=800,\n",
    "#         height=400\n",
    "    )\n",
    "\n",
    "home_dir = os.environ['HOME']\n",
    "\n",
    "weights = '{}'.format(style_weight_1.value)\n",
    "\n",
    "style_formater = lambda style: \"{}/{}/{}\".format(home_dir, 'Pictures/styles', style)\n",
    "style_val = ','.join(str(style_formater(x)) for x in styles.value)\n",
    "crop_style=False\n",
    "\n",
    "if len(styles.value) > 1:\n",
    "    weights = \"{},{}\".format(style_weight_1.value, style_weight_2.value)\n",
    "    crop_style = True\n",
    "    \n",
    "content_val = \"{}/{}/{}\".format(home_dir, 'Pictures/Reference', content.value)\n",
    "out_dir = \"{}/{}/{}\".format(home_dir, 'Pictures/arbitrary_image_stylization', 'lost')\n",
    "\n",
    "print(weights)\n",
    "print(style_val)\n",
    "\n",
    "from style_transfer import style_transfer\n",
    "\n",
    "\n",
    "stylized = style_transfer(\n",
    "    content=content_val,\n",
    "    style=style_val,\n",
    "    content_size=2560,\n",
    "    output_dir=out_dir,\n",
    "    style_size=2048,\n",
    "    crop_style=crop_style,\n",
    "    style_interp_weights=weights\n",
    ")\n",
    "\n",
    "image_views = [display_image(x) for x in stylized]\n",
    "widgets.HBox(image_views)"
   ]
  },
  {
   "cell_type": "code",
   "execution_count": null,
   "metadata": {},
   "outputs": [],
   "source": []
  },
  {
   "cell_type": "code",
   "execution_count": null,
   "metadata": {},
   "outputs": [],
   "source": []
  }
 ],
 "metadata": {
  "kernelspec": {
   "display_name": "Python 3",
   "language": "python",
   "name": "python3"
  },
  "language_info": {
   "codemirror_mode": {
    "name": "ipython",
    "version": 3
   },
   "file_extension": ".py",
   "mimetype": "text/x-python",
   "name": "python",
   "nbconvert_exporter": "python",
   "pygments_lexer": "ipython3",
   "version": "3.6.5"
  }
 },
 "nbformat": 4,
 "nbformat_minor": 2
}
